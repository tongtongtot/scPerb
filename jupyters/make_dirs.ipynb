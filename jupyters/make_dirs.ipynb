{
 "cells": [
  {
   "cell_type": "code",
   "execution_count": 1,
   "id": "1117c6b2",
   "metadata": {},
   "outputs": [],
   "source": [
    "import os"
   ]
  },
  {
   "cell_type": "code",
   "execution_count": 2,
   "id": "c7d2e3de",
   "metadata": {},
   "outputs": [],
   "source": [
    "os.makedirs(f\"figures/bar_plot\", exist_ok = True)\n",
    "os.makedirs(f\"figures/csvs\", exist_ok = True)\n",
    "os.makedirs(f\"figures/dotplot_plot\", exist_ok = True)\n",
    "os.makedirs(f\"figures/grouped_boxplot\", exist_ok = True)\n",
    "os.makedirs(f\"figures/pcaplot\", exist_ok = True)\n",
    "os.makedirs(f\"figures/scatter_plot\", exist_ok = True)\n",
    "os.makedirs(f\"figures/umap\", exist_ok = True)\n",
    "os.makedirs(f\"figures/violin_model\", exist_ok = True)\n",
    "os.makedirs(f\"figures/violinplot\", exist_ok = True)\n",
    "os.makedirs(f\"figures/line_plot\", exist_ok = True)"
   ]
  },
  {
   "cell_type": "code",
   "execution_count": null,
   "id": "80f6dd03",
   "metadata": {},
   "outputs": [],
   "source": []
  }
 ],
 "metadata": {
  "kernelspec": {
   "display_name": "Python 3 (ipykernel)",
   "language": "python",
   "name": "python3"
  },
  "language_info": {
   "codemirror_mode": {
    "name": "ipython",
    "version": 3
   },
   "file_extension": ".py",
   "mimetype": "text/x-python",
   "name": "python",
   "nbconvert_exporter": "python",
   "pygments_lexer": "ipython3",
   "version": "3.9.12"
  }
 },
 "nbformat": 4,
 "nbformat_minor": 5
}
